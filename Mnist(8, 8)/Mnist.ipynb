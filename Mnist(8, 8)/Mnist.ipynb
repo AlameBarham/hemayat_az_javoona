{
 "cells": [
  {
   "cell_type": "markdown",
   "id": "b2872c4f",
   "metadata": {},
   "source": [
    "this soal is \"بدیهیه\"( but not in pytorch)"
   ]
  },
  {
   "cell_type": "markdown",
   "id": "f10be38d",
   "metadata": {},
   "source": [
    "# libraries and data_processing"
   ]
  },
  {
   "cell_type": "code",
   "execution_count": 1,
   "id": "f6c5f456",
   "metadata": {},
   "outputs": [],
   "source": [
    "import numpy as np\n",
    "import matplotlib.pyplot as plt\n",
    "from sklearn.datasets import load_digits\n",
    "from sklearn.model_selection import train_test_split"
   ]
  },
  {
   "cell_type": "code",
   "execution_count": 2,
   "id": "5f636c2c",
   "metadata": {},
   "outputs": [
    {
     "name": "stdout",
     "output_type": "stream",
     "text": [
      "X_train.shape: (1437, 64)\n",
      "y_train.shape: (1437,)\n",
      "X_test.shape: (360, 64)\n",
      "y_test.shape: (360,)\n"
     ]
    }
   ],
   "source": [
    "X, y = load_digits(return_X_y=True)\n",
    "\n",
    "X_train, X_test, y_train, y_test = train_test_split(X, y, test_size=0.2, shuffle=True, random_state=56, stratify=y)\n",
    "\n",
    "print(f\"X_train.shape: {X_train.shape}\")\n",
    "print(f\"y_train.shape: {y_train.shape}\")\n",
    "print(f\"X_test.shape: {X_test.shape}\")\n",
    "print(f\"y_test.shape: {y_test.shape}\")"
   ]
  },
  {
   "cell_type": "code",
   "execution_count": 3,
   "id": "9faa91bf",
   "metadata": {},
   "outputs": [
    {
     "data": {
      "image/png": "[encoded data removed]",
      "text/plain": [
       "<Figure size 640x480 with 1 Axes>"
      ]
     },
     "metadata": {},
     "output_type": "display_data"
    },
    {
     "name": "stdout",
     "output_type": "stream",
     "text": [
      "3\n"
     ]
    }
   ],
   "source": [
    "plt.imshow(X_train[56].reshape(8, 8), cmap='gray')\n",
    "plt.show()\n",
    "print(y_train[56])"
   ]
  },
  {
   "cell_type": "markdown",
   "id": "8d8be510",
   "metadata": {},
   "source": [
    "# appling models"
   ]
  },
  {
   "cell_type": "code",
   "execution_count": 4,
   "id": "4bd16801",
   "metadata": {},
   "outputs": [],
   "source": [
    "from sklearn.metrics import f1_score"
   ]
  },
  {
   "cell_type": "code",
   "execution_count": 5,
   "id": "0519c1a5",
   "metadata": {},
   "outputs": [
    {
     "name": "stdout",
     "output_type": "stream",
     "text": [
      "cv f1_macro mean: 0.9759477318737677\n",
      "cv f1_macro scores: [0.97494675 0.97205254 0.98036567 0.97468343 0.97769027]\n"
     ]
    }
   ],
   "source": [
    "# Random-Forest\n",
    "from sklearn.ensemble import RandomForestClassifier\n",
    "from sklearn.model_selection import cross_val_score, StratifiedKFold\n",
    "\n",
    "clf = RandomForestClassifier(random_state=56)\n",
    "\n",
    "scores = cross_val_score(clf, X, y, cv=StratifiedKFold(n_splits=5, shuffle=True, random_state=56), scoring=\"f1_macro\")\n",
    "print(f\"cv f1_macro mean: {scores.mean()}\")\n",
    "print(f\"cv f1_macro scores: {scores}\")"
   ]
  },
  {
   "cell_type": "code",
   "execution_count": 6,
   "id": "047d591d",
   "metadata": {},
   "outputs": [],
   "source": [
    "import torch\n",
    "import torch.nn as nn"
   ]
  },
  {
   "cell_type": "code",
   "execution_count": 30,
   "id": "3e9ec150",
   "metadata": {},
   "outputs": [],
   "source": [
    "# NeuralNet\n",
    "class numberNN(nn.Module):\n",
    "    def __init__(self, input):\n",
    "        super().__init__()\n",
    "        self.fc1 = nn.Linear(input, 32)\n",
    "        self.fc2 = nn.Linear(32, 10)\n",
    "        self.dropout = nn.Dropout(0.3)\n",
    "\n",
    "    def forward(self, x):\n",
    "        x = self.dropout(torch.relu(self.fc1(x)))\n",
    "        x = self.fc2(x)\n",
    "\n",
    "        return x\n",
    "\n",
    "model = numberNN(X_train.shape[1])\n",
    "criterion = nn.CrossEntropyLoss()\n",
    "optimizer = torch.optim.Adam(model.parameters(), lr=0.001)"
   ]
  },
  {
   "cell_type": "code",
   "execution_count": 31,
   "id": "5424842d",
   "metadata": {},
   "outputs": [],
   "source": [
    "from sklearn.preprocessing import StandardScaler\n",
    "\n",
    "scaler = StandardScaler()\n",
    "X_train_scaled = scaler.fit_transform(X_train)\n",
    "X_test_scaled = scaler.transform(X_test)\n",
    "\n",
    "X_train_tensor = torch.tensor(X_train_scaled, dtype=torch.float32)\n",
    "X_test_tensor = torch.tensor(X_test_scaled, dtype=torch.float32)\n",
    "y_train_tensor = torch.tensor(y_train, dtype=torch.long)\n",
    "y_test_tensor = torch.tensor(y_test, dtype=torch.long)"
   ]
  },
  {
   "cell_type": "code",
   "execution_count": 32,
   "id": "8325fdaa",
   "metadata": {},
   "outputs": [],
   "source": [
    "from torch.utils.data import DataLoader, TensorDataset\n",
    "\n",
    "train_dataset = TensorDataset(X_train_tensor, y_train_tensor)\n",
    "test_dataset = TensorDataset(X_test_tensor, y_test_tensor)\n",
    "\n",
    "train_loader = DataLoader(train_dataset, batch_size=32, shuffle=True)\n",
    "test_loader = DataLoader(test_dataset, batch_size=32, shuffle=True)"
   ]
  },
  {
   "cell_type": "code",
   "execution_count": 33,
   "id": "bc461a5c",
   "metadata": {},
   "outputs": [],
   "source": [
    "def model_training(epochs=10):\n",
    "    print(\"The metric is f1_score\")\n",
    "    for epoch in range(epochs):\n",
    "        model.train()\n",
    "        total_loss = 0\n",
    "        for X_batch, y_batch in train_loader:\n",
    "            optimizer.zero_grad()\n",
    "            y_pred = model(X_batch)\n",
    "            loss = criterion(y_pred, y_batch)\n",
    "            loss.backward()\n",
    "            optimizer.step()\n",
    "            total_loss += loss.item()\n",
    "        \n",
    "        avg_loss = total_loss / len(train_loader)\n",
    "        \n",
    "        model.eval()\n",
    "        all_train_preds, all_train_labels = [], []\n",
    "        all_test_preds, all_test_labels = [], []\n",
    "        \n",
    "        with torch.no_grad():\n",
    "            for X_batch, y_batch in train_loader:\n",
    "                preds = torch.argmax(model(X_batch), dim=1)\n",
    "                all_train_preds.extend(preds.numpy())\n",
    "                all_train_labels.extend(y_batch.numpy())\n",
    "                \n",
    "            for X_batch, y_batch in test_loader:\n",
    "                preds = torch.argmax(model(X_batch), dim=1)\n",
    "                all_test_preds.extend(preds.numpy())\n",
    "                all_test_labels.extend(y_batch.numpy())\n",
    "        \n",
    "        f1_train = f1_score(all_train_labels, all_train_preds, average=\"macro\")\n",
    "        f1_val = f1_score(all_test_labels, all_test_preds, average=\"macro\")\n",
    "        \n",
    "        print(f\"epoch: {epoch+1},  Loss: {avg_loss:.4f},  Train: {f1_train:.4f},  Test: {f1_val:.4f}\")"
   ]
  },
  {
   "cell_type": "code",
   "execution_count": 34,
   "id": "43a604bd",
   "metadata": {},
   "outputs": [
    {
     "name": "stdout",
     "output_type": "stream",
     "text": [
      "The metric is f1_score\n",
      "epoch: 1,  Loss: 2.0633,  Train: 0.7243,  Test: 0.7516\n",
      "epoch: 2,  Loss: 1.5387,  Train: 0.8140,  Test: 0.8192\n",
      "epoch: 3,  Loss: 1.0736,  Train: 0.8835,  Test: 0.8790\n",
      "epoch: 4,  Loss: 0.8001,  Train: 0.9117,  Test: 0.9199\n",
      "epoch: 5,  Loss: 0.6148,  Train: 0.9282,  Test: 0.9225\n",
      "epoch: 6,  Loss: 0.5136,  Train: 0.9395,  Test: 0.9279\n",
      "epoch: 7,  Loss: 0.4491,  Train: 0.9443,  Test: 0.9389\n",
      "epoch: 8,  Loss: 0.3901,  Train: 0.9526,  Test: 0.9415\n",
      "epoch: 9,  Loss: 0.3423,  Train: 0.9574,  Test: 0.9441\n",
      "epoch: 10,  Loss: 0.3268,  Train: 0.9644,  Test: 0.9495\n",
      "epoch: 11,  Loss: 0.2924,  Train: 0.9651,  Test: 0.9468\n",
      "epoch: 12,  Loss: 0.2790,  Train: 0.9686,  Test: 0.9495\n",
      "epoch: 13,  Loss: 0.2447,  Train: 0.9749,  Test: 0.9523\n",
      "epoch: 14,  Loss: 0.2483,  Train: 0.9777,  Test: 0.9578\n",
      "epoch: 15,  Loss: 0.2330,  Train: 0.9784,  Test: 0.9551\n",
      "epoch: 16,  Loss: 0.2305,  Train: 0.9833,  Test: 0.9578\n",
      "epoch: 17,  Loss: 0.2043,  Train: 0.9847,  Test: 0.9523\n",
      "epoch: 18,  Loss: 0.2041,  Train: 0.9847,  Test: 0.9551\n",
      "epoch: 19,  Loss: 0.1783,  Train: 0.9867,  Test: 0.9579\n",
      "epoch: 20,  Loss: 0.1896,  Train: 0.9874,  Test: 0.9578\n",
      "epoch: 21,  Loss: 0.1732,  Train: 0.9895,  Test: 0.9578\n",
      "epoch: 22,  Loss: 0.1599,  Train: 0.9895,  Test: 0.9551\n",
      "epoch: 23,  Loss: 0.1337,  Train: 0.9889,  Test: 0.9551\n",
      "epoch: 24,  Loss: 0.1613,  Train: 0.9909,  Test: 0.9578\n",
      "epoch: 25,  Loss: 0.1563,  Train: 0.9909,  Test: 0.9606\n",
      "epoch: 26,  Loss: 0.1486,  Train: 0.9916,  Test: 0.9606\n",
      "epoch: 27,  Loss: 0.1280,  Train: 0.9930,  Test: 0.9605\n",
      "epoch: 28,  Loss: 0.1265,  Train: 0.9937,  Test: 0.9551\n",
      "epoch: 29,  Loss: 0.1343,  Train: 0.9937,  Test: 0.9551\n",
      "epoch: 30,  Loss: 0.1244,  Train: 0.9951,  Test: 0.9551\n"
     ]
    }
   ],
   "source": [
    "model_training(30)"
   ]
  }
 ],
 "metadata": {
  "kernelspec": {
   "display_name": "Python 3",
   "language": "python",
   "name": "python3"
  },
  "language_info": {
   "codemirror_mode": {
    "name": "ipython",
    "version": 3
   },
   "file_extension": ".py",
   "mimetype": "text/x-python",
   "name": "python",
   "nbconvert_exporter": "python",
   "pygments_lexer": "ipython3",
   "version": "3.12.3"
  }
 },
 "nbformat": 4,
 "nbformat_minor": 5
}
