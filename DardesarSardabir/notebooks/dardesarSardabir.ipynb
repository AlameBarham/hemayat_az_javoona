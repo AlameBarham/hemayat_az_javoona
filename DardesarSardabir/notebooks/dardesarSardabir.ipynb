{
  "cells": [
    {
      "cell_type": "markdown",
      "metadata": {
        "id": "Ez_7eII7F389"
      },
      "source": [
        "<h1 align=center style=\"line-height:200%;font-family:vazir;color:#0099cc\">\n",
        "<font face=\"vazir\" color=\"#0099cc\">\n",
        "دردسر سردبیر\n",
        "</font>\n",
        "</h1>"
      ]
    },
    {
      "cell_type": "markdown",
      "metadata": {
        "id": "OQINW5auF5h-"
      },
      "source": [
        "<h2 dir=rtl align=right style=\"line-height:200%;font-family:vazir;color:#0099cc\">\n",
        "<font face=\"vazir\" color=\"#0099cc\">\n",
        "مقدمه و صورت مسئله\n",
        "</font>\n",
        "</h2>\n",
        "\n",
        "<p dir=rtl style=\"direction: rtl; text-align: justify; line-height:200%; font-family:vazir; font-size:medium\">\n",
        "<font face=\"vazir\" size=3>\n",
        "هدف از این سوال توسعه‌ی یک مدل یادگیری ماشین است که قادر به پیش‌بینی دقیق نویسنده‌ی یک متن تنها بر اساس وجود یا عدم وجود کلمات خاص است.\n",
        "</font>\n",
        "</p>"
      ]
    },
    {
      "cell_type": "markdown",
      "metadata": {
        "id": "aSHQ19QVHSNh"
      },
      "source": [
        "<h2 dir=rtl align=right style=\"line-height:200%;font-family:vazir;color:#0099cc\">\n",
        "<font face=\"vazir\" color=\"#0099cc\">\n",
        "معرفی مجموعه داده\n",
        "</font>\n",
        "</h2>\n",
        "\n",
        "<p dir=rtl style=\"direction: rtl; text-align: justify; line-height:200%; font-family:vazir; font-size:medium\">\n",
        "<font face=\"vazir\" size=3>\n",
        "یک مجموعه داده‌ی ساختاریافته به شما ارائه شده است که در آن هر ردیف نشان دهنده‌ی یک متن است و ستون ها یا وجود کلمات خاص در متن یا نویسنده‌ی متن را نشان می‌دهند.</font>\n",
        "</p>\n",
        "\n",
        "<p dir=rtl style=\"direction: rtl; text-align: justify; line-height:200%; font-family:vazir; font-size:medium\">\n",
        "<font face=\"vazir\" size=3>\n",
        "ستون‌های کلمات: این ستون ها بیانگر کلمات جداگانه هستند. هر ورودی در این ستون‌ها باینری است که 1 نشان دهنده‌ی وجود کلمه در متن و 0 نشان دهنده‌ی عدم وجود آن است.\n",
        "<br>\n",
        "ستون <code>author</code>: این ستون حاوی نام نویسنده‌ای است که متن را نوشته است. این ستون، متغیر هدفی است که مدل شما باید آن را پیش‌بینی کند.</font>\n",
        "</p>\n",
        "\n",
        "<center>\n",
        "<div  style=\"direction: rtl;line-height:200%;font-family:vazir;font-size:medium\">\n",
        "<font face=\"vazir\" size=3>\n",
        "    \n",
        "|word_1|word_2|...|word_n|author|\n",
        "|:------:|:---:|:---:|:---:|:---:|\n",
        "|0|1|...|1|Mason Reed|\n",
        "|1|1|...|1|Ava Thompson|\n",
        "|0|1|...|0|Liam Carter|\n",
        "\n",
        "</font>\n",
        "</div>\n",
        "</center>\n",
        "\n",
        "\n",
        "<p dir=rtl style=\"direction: rtl; text-align: justify; line-height:200%; font-family:vazir; font-size:medium\">\n",
        "<font face=\"vazir\" size=3>\n",
        "    مجموعه داده آزمایش نیز مانند مجموعه آموزش است با این تفاوت که ستون <code>author</code> که متغیر هدف مسئله است را در خود ندارد. مجموعه داده آزمایش ۲۷۶۵ سطر دارد.\n",
        "</font>\n",
        "</p>\n"
      ]
    },
    {
      "cell_type": "markdown",
      "metadata": {
        "id": "6ekfg0z7CFCe"
      },
      "source": [
        "<h2 dir=rtl align=right style=\"line-height:200%;font-family:vazir;color:#0099cc\">\n",
        "<font face=\"vazir\" color=\"#0099cc\">\n",
        "خواندن مجموعه داده\n",
        "</font>\n",
        "</h2>\n",
        "\n",
        "<p dir=rtl style=\"direction: rtl; text-align: justify; line-height:200%; font-family:vazir; font-size:medium\">\n",
        "<font face=\"vazir\" size=3>\n",
        "    در ابتدا نیاز است فایل‌های مجموعه‌داده را بخوانید. نمونه‌های آموزشی در فایل <code>train.csv</code> و نمونه‌های آزمون که باید مقدار متغیر هدف آن‌ها را پیش‌بینی کنید در فایل <code>test.csv</code> ذخیره شده‌اند. اگر لازم دانستید می‌توانید به دلخواه خود بخشی از مجموعه‌ی آموزش را به عنوان مجموعه‌ی اعتبارسنجی نیز جدا کنید.\n",
        "</font>\n",
        "</p>"
      ]
    },
    {
      "cell_type": "code",
      "execution_count": 73,
      "metadata": {
        "id": "1k0kZavyCFCe"
      },
      "outputs": [],
      "source": [
        "import pandas as pd\n",
        "import numpy as np"
      ]
    },
    {
      "cell_type": "code",
      "execution_count": 99,
      "metadata": {
        "id": "HPorTeGSCFCf"
      },
      "outputs": [],
      "source": [
        "# Reading/Loading the dataset files\n",
        "df = pd.read_csv(r\"C:\\Users\\fr\\Desktop\\vs code\\DardesarSardabir\\data\\train.csv\")\n",
        "X_test = pd.read_csv(r\"C:\\Users\\fr\\Desktop\\vs code\\DardesarSardabir\\data\\test.csv\")"
      ]
    },
    {
      "cell_type": "markdown",
      "metadata": {
        "id": "qhDyzu6pCFCh"
      },
      "source": [
        "<h2 dir=rtl align=right style=\"line-height:200%;font-family:vazir;color:#0099cc\">\n",
        "<font face=\"vazir\" color=\"#0099cc\">\n",
        "پیش‌پردازش و مهندسی ویژگی\n",
        "</font>\n",
        "</h2>\n",
        "\n",
        "<p dir=rtl style=\"direction: rtl; text-align: justify; line-height:200%; font-family:vazir; font-size:medium\">\n",
        "<font face=\"vazir\" size=3>\n",
        "        در این سوال شما می‌توانید از هر تکنیک پیش‌پردازش/مهندسی ویژگی دلخواهتان، استفاده کنید.\n",
        "    <br>\n",
        "    تکنیک‌هایی که استفاده می‌کنید به شکل مستقیم مورد ارزیابی توسط سامانه داوری قرار <b>نمی‌گیرند.</b> بلکه همه آن‌ها در دقت مدل شما تاثیر خواهند گذاشت؛ بنابراین هر چه پیش‌پردازش/مهندسی ویژگی بهتری انجام دهید تا دقت مدل بهبود پیدا کند، امتیاز بیشتری از این سوال کسب خواهید کرد.\n",
        "\n",
        "</font>\n",
        "</p>"
      ]
    },
    {
      "cell_type": "code",
      "execution_count": 75,
      "metadata": {},
      "outputs": [
        {
          "data": {
            "text/html": [
              "<div>\n",
              "<style scoped>\n",
              "    .dataframe tbody tr th:only-of-type {\n",
              "        vertical-align: middle;\n",
              "    }\n",
              "\n",
              "    .dataframe tbody tr th {\n",
              "        vertical-align: top;\n",
              "    }\n",
              "\n",
              "    .dataframe thead th {\n",
              "        text-align: right;\n",
              "    }\n",
              "</style>\n",
              "<table border=\"1\" class=\"dataframe\">\n",
              "  <thead>\n",
              "    <tr style=\"text-align: right;\">\n",
              "      <th></th>\n",
              "      <th>author</th>\n",
              "      <th>lung</th>\n",
              "      <th>council</th>\n",
              "      <th>solution</th>\n",
              "      <th>quite</th>\n",
              "      <th>rain</th>\n",
              "      <th>hair</th>\n",
              "      <th>skill</th>\n",
              "      <th>difficulty</th>\n",
              "      <th>add</th>\n",
              "      <th>...</th>\n",
              "      <th>stocking</th>\n",
              "      <th>near</th>\n",
              "      <th>oil</th>\n",
              "      <th>dive</th>\n",
              "      <th>many</th>\n",
              "      <th>run</th>\n",
              "      <th>tender</th>\n",
              "      <th>asleep</th>\n",
              "      <th>eat</th>\n",
              "      <th>sweep</th>\n",
              "    </tr>\n",
              "  </thead>\n",
              "  <tbody>\n",
              "    <tr>\n",
              "      <th>0</th>\n",
              "      <td>Mason Reed</td>\n",
              "      <td>0</td>\n",
              "      <td>0</td>\n",
              "      <td>0</td>\n",
              "      <td>0</td>\n",
              "      <td>0</td>\n",
              "      <td>0</td>\n",
              "      <td>0</td>\n",
              "      <td>0</td>\n",
              "      <td>0</td>\n",
              "      <td>...</td>\n",
              "      <td>0</td>\n",
              "      <td>0</td>\n",
              "      <td>0</td>\n",
              "      <td>0</td>\n",
              "      <td>0</td>\n",
              "      <td>0</td>\n",
              "      <td>0</td>\n",
              "      <td>0</td>\n",
              "      <td>0</td>\n",
              "      <td>0</td>\n",
              "    </tr>\n",
              "    <tr>\n",
              "      <th>1</th>\n",
              "      <td>Ava Thompson</td>\n",
              "      <td>0</td>\n",
              "      <td>0</td>\n",
              "      <td>0</td>\n",
              "      <td>0</td>\n",
              "      <td>0</td>\n",
              "      <td>0</td>\n",
              "      <td>0</td>\n",
              "      <td>0</td>\n",
              "      <td>0</td>\n",
              "      <td>...</td>\n",
              "      <td>0</td>\n",
              "      <td>0</td>\n",
              "      <td>0</td>\n",
              "      <td>0</td>\n",
              "      <td>0</td>\n",
              "      <td>0</td>\n",
              "      <td>0</td>\n",
              "      <td>0</td>\n",
              "      <td>0</td>\n",
              "      <td>0</td>\n",
              "    </tr>\n",
              "    <tr>\n",
              "      <th>2</th>\n",
              "      <td>Liam Carter</td>\n",
              "      <td>0</td>\n",
              "      <td>0</td>\n",
              "      <td>0</td>\n",
              "      <td>0</td>\n",
              "      <td>0</td>\n",
              "      <td>0</td>\n",
              "      <td>0</td>\n",
              "      <td>0</td>\n",
              "      <td>0</td>\n",
              "      <td>...</td>\n",
              "      <td>0</td>\n",
              "      <td>0</td>\n",
              "      <td>0</td>\n",
              "      <td>0</td>\n",
              "      <td>0</td>\n",
              "      <td>0</td>\n",
              "      <td>0</td>\n",
              "      <td>0</td>\n",
              "      <td>0</td>\n",
              "      <td>0</td>\n",
              "    </tr>\n",
              "  </tbody>\n",
              "</table>\n",
              "<p>3 rows × 381 columns</p>\n",
              "</div>"
            ],
            "text/plain": [
              "         author  lung  council  solution  quite  rain  hair  skill  \\\n",
              "0    Mason Reed     0        0         0      0     0     0      0   \n",
              "1  Ava Thompson     0        0         0      0     0     0      0   \n",
              "2   Liam Carter     0        0         0      0     0     0      0   \n",
              "\n",
              "   difficulty  add  ...  stocking  near  oil  dive  many  run  tender  asleep  \\\n",
              "0           0    0  ...         0     0    0     0     0    0       0       0   \n",
              "1           0    0  ...         0     0    0     0     0    0       0       0   \n",
              "2           0    0  ...         0     0    0     0     0    0       0       0   \n",
              "\n",
              "   eat  sweep  \n",
              "0    0      0  \n",
              "1    0      0  \n",
              "2    0      0  \n",
              "\n",
              "[3 rows x 381 columns]"
            ]
          },
          "execution_count": 75,
          "metadata": {},
          "output_type": "execute_result"
        }
      ],
      "source": [
        "df.head(3)"
      ]
    },
    {
      "cell_type": "code",
      "execution_count": 76,
      "metadata": {
        "colab": {
          "base_uri": "https://localhost:8080/"
        },
        "id": "2v0l8pLACFCh",
        "outputId": "f26725a3-3f35-4374-d752-46b1ba24eac7"
      },
      "outputs": [
        {
          "name": "stdout",
          "output_type": "stream",
          "text": [
            "<class 'pandas.core.frame.DataFrame'>\n",
            "RangeIndex: 3196 entries, 0 to 3195\n",
            "Columns: 381 entries, author to sweep\n",
            "dtypes: int64(380), object(1)\n",
            "memory usage: 9.3+ MB\n"
          ]
        }
      ],
      "source": [
        "df.info()"
      ]
    },
    {
      "cell_type": "code",
      "execution_count": 77,
      "metadata": {
        "colab": {
          "base_uri": "https://localhost:8080/",
          "height": 272
        },
        "id": "dA7BNfoID-6O",
        "outputId": "242ff8c5-f302-4364-b179-a7612e1eb9c3"
      },
      "outputs": [
        {
          "data": {
            "text/plain": [
              "author\n",
              "Mason Reed        653\n",
              "Ava Thompson      650\n",
              "Olivia Bennett    643\n",
              "Ethan Brooks      627\n",
              "Liam Carter       623\n",
              "Name: count, dtype: int64"
            ]
          },
          "execution_count": 77,
          "metadata": {},
          "output_type": "execute_result"
        }
      ],
      "source": [
        "df[\"author\"].value_counts()"
      ]
    },
    {
      "cell_type": "code",
      "execution_count": 79,
      "metadata": {},
      "outputs": [],
      "source": [
        "from sklearn.preprocessing import LabelEncoder\n",
        "\n",
        "le = LabelEncoder()\n",
        "df[\"author\"] = le.fit_transform(df[\"author\"])"
      ]
    },
    {
      "cell_type": "code",
      "execution_count": 80,
      "metadata": {
        "id": "vwU2x_zbCFCi"
      },
      "outputs": [],
      "source": [
        "from sklearn.model_selection import train_test_split\n",
        "\n",
        "X = df.drop('author', axis=1)\n",
        "y = df['author']\n",
        "\n",
        "X_train, X_val, y_train, y_val = train_test_split(X, y, random_state=56, test_size=0.2, stratify=y, shuffle=True)"
      ]
    },
    {
      "cell_type": "code",
      "execution_count": 81,
      "metadata": {},
      "outputs": [],
      "source": [
        "X_train, X_val, y_train, y_val = np.array(X_train), np.array(X_val), np.array(y_train), np.array(y_val)"
      ]
    },
    {
      "cell_type": "markdown",
      "metadata": {
        "id": "yTtH1TeSJaAx"
      },
      "source": [
        "<h2 dir=rtl align=right style=\"line-height:200%;font-family:vazir;color:#0099cc\">\n",
        "<font face=\"vazir\" color=\"#0099cc\">\n",
        "معیار ارزیابی\n",
        "</font>\n",
        "</h2>\n",
        "\n",
        "<p dir=rtl style=\"direction: rtl; text-align: justify; line-height:200%; font-family:vazir; font-size:medium\">\n",
        "<font face=\"vazir\" size=3>\n",
        "   ارسال‌ها بر اساس امتیاز <code>F1</code> ارزیابی می‌شوند و مدل میانگین‌گیری <code>macro</code> است. امتیاز <code>F1</code> معیاری برای ارزیابی مدل است که هم بازیابی (<code>Recall</code>) و هم صحت (<code>Accuracy</code>) را در نظر می‌گیرد.\n",
        "   نتیجه‌ی نهایی بر اساس فرمول زیر محاسبه می‌گردد:\n",
        "\n",
        "$$score= round(f1score, 3) \\times 100$$\n",
        "</font>\n",
        "</p>\n",
        "<p dir=rtl style=\"direction: rtl; text-align: justify; line-height:200%; font-family:vazir; font-size:medium\">\n",
        "<font face=\"vazir\" size=3>\n",
        "مقدار <code>F1 Score</code> مدل شما تا ۳ رقم اعشار گرد شده و پس از ضرب در ۱۰۰ به‌عنوان امتیاز شما از این سوال لحاظ می‌شود. بیشترین امتیاز ممکن از این سوال ۱۰۰ و کمترین امتیاز قابل قبول، ۴۰ می‌باشد. امتیاز <code>F1</code> کمتر از ۴۰ معادل صفر در نظر گرفته خواهد شد.\n",
        "    <br>\n",
        "    پیشنهاد می‌شود با توجه به این معیار، عملکرد مدل خود را بر روی مجموعه‌ی آموزش یا اعتبارسنجی ارزیابی کنید.\n",
        "</font>\n",
        "</p>"
      ]
    },
    {
      "cell_type": "markdown",
      "metadata": {},
      "source": [
        "### pytorch"
      ]
    },
    {
      "cell_type": "code",
      "execution_count": 82,
      "metadata": {},
      "outputs": [],
      "source": [
        "import torch\n",
        "import torch.nn as nn\n",
        "\n",
        "device = torch.device(\"cuda:0\")"
      ]
    },
    {
      "cell_type": "code",
      "execution_count": 83,
      "metadata": {},
      "outputs": [],
      "source": [
        "class Network(torch.nn.Module):\n",
        "    def __init__(self, n_input):\n",
        "        super().__init__()\n",
        "        self.fc1 = nn.Linear(n_input, 128)\n",
        "        self.fc2 = nn.Linear(128, 64)\n",
        "        self.fc3 = nn.Linear(64, 5)\n",
        "        self.Relu = torch.relu\n",
        "\n",
        "    def forward(self, x):\n",
        "        x = self.Relu(self.fc1(x))\n",
        "        x = self.Relu(self.fc2(x))\n",
        "        x = self.fc3(x)\n",
        "        return x\n",
        "    \n",
        "number_of_features = X_train.shape[1]\n",
        "model = Network(n_input=number_of_features).to(device)"
      ]
    },
    {
      "cell_type": "code",
      "execution_count": 84,
      "metadata": {},
      "outputs": [],
      "source": [
        "X_train_tensor = torch.tensor(X_train, dtype=torch.float32).to(device)\n",
        "y_train_tensor = torch.tensor(y_train, dtype=torch.long).reshape(-1)\n",
        "\n",
        "X_val_tensor = torch.tensor(X_val, dtype=torch.float32).to(device)\n",
        "y_val_tensor = torch.tensor(y_val, dtype=torch.long).reshape(-1)"
      ]
    },
    {
      "cell_type": "code",
      "execution_count": 85,
      "metadata": {},
      "outputs": [],
      "source": [
        "from sklearn.metrics import f1_score\n",
        "\n",
        "criterion = nn.CrossEntropyLoss()\n",
        "optimizer = torch.optim.SGD(model.parameters(), lr=0.03, momentum=0.9)"
      ]
    },
    {
      "cell_type": "markdown",
      "metadata": {},
      "source": [
        "#### Main Training"
      ]
    },
    {
      "cell_type": "code",
      "execution_count": 86,
      "metadata": {},
      "outputs": [],
      "source": [
        "from torch.utils.data import TensorDataset, DataLoader\n",
        "\n",
        "train_dataset = TensorDataset(X_train_tensor, y_train_tensor)\n",
        "val_dataset = TensorDataset(X_val_tensor, y_val_tensor)\n",
        "\n",
        "train_loader = DataLoader(train_dataset, batch_size=32, shuffle=True)\n",
        "val_loader = DataLoader(train_dataset, batch_size=32, shuffle=True)"
      ]
    },
    {
      "cell_type": "code",
      "execution_count": 88,
      "metadata": {},
      "outputs": [
        {
          "name": "stdout",
          "output_type": "stream",
          "text": [
            "epoch: 1, TrainF1 = 0.8927%, Validation = 0.9427%\n",
            "epoch: 2, TrainF1 = 0.9124%, Validation = 0.8292%\n",
            "epoch: 3, TrainF1 = 0.9051%, Validation = 0.8933%\n",
            "epoch: 4, TrainF1 = 0.9619%, Validation = 0.9644%\n",
            "epoch: 5, TrainF1 = 0.8403%, Validation = 0.9596%\n",
            "epoch: 6, TrainF1 = 1.0000%, Validation = 1.0000%\n",
            "epoch: 7, TrainF1 = 1.0000%, Validation = 0.9378%\n",
            "epoch: 8, TrainF1 = 1.0000%, Validation = 0.9685%\n",
            "epoch: 9, TrainF1 = 1.0000%, Validation = 0.9713%\n",
            "epoch: 10, TrainF1 = 0.9624%, Validation = 0.8129%\n"
          ]
        }
      ],
      "source": [
        "# -- training NN with mini-batch --\n",
        "for epoch in range(10):\n",
        "    for X_batch, y_batch in train_loader:\n",
        "        optimizer.zero_grad()\n",
        "        y_pred = model(X_batch)\n",
        "        loss = criterion(y_pred.cpu(), y_batch)\n",
        "        loss.backward()\n",
        "        optimizer.step()\n",
        "    \n",
        "    # -- Evaluating --\n",
        "    model.eval()\n",
        "    with torch.no_grad():\n",
        "        for X_batch, y_batch in train_loader:\n",
        "            preds = torch.argmax(model(X_batch), dim=1)\n",
        "            f1_train = f1_score(preds.cpu().numpy(), y_batch.numpy(), average=\"macro\")\n",
        "        \n",
        "        for X_batch, y_batch in val_loader:\n",
        "            preds = torch.argmax(model(X_batch), dim=1)\n",
        "            f1_val = f1_score(preds.cpu().numpy(), y_batch.numpy(), average=\"macro\")\n",
        "\n",
        "    print(f\"epoch: {epoch+1}, TrainF1 = {f1_train:.4f}%, Validation = {f1_val:.4f}%\")"
      ]
    },
    {
      "cell_type": "markdown",
      "metadata": {},
      "source": [
        " فقط داریم برای اخرین بچ داخل هر train_loader ولیدیشن میگیریم"
      ]
    },
    {
      "cell_type": "code",
      "execution_count": 92,
      "metadata": {},
      "outputs": [
        {
          "name": "stdout",
          "output_type": "stream",
          "text": [
            "f1 : 0.8038093515813344\n"
          ]
        }
      ],
      "source": [
        "y_pred = model(X_val_tensor)\n",
        "y_pred = torch.argmax(y_pred, dim=1) # cuda, Tensor\n",
        "y_pred = y_pred.cpu().numpy() # cpu, numpy\n",
        "\n",
        "print(f\"f1 : {f1_score(y_val_tensor, y_pred, average=\"macro\")}\")"
      ]
    },
    {
      "cell_type": "code",
      "execution_count": null,
      "metadata": {},
      "outputs": [
        {
          "name": "stdout",
          "output_type": "stream",
          "text": [
            "['Olivia Bennett' 'Olivia Bennett' 'Liam Carter' 'Liam Carter'\n",
            " 'Olivia Bennett' 'Olivia Bennett' 'Ava Thompson' 'Liam Carter'\n",
            " 'Liam Carter' 'Ava Thompson']\n"
          ]
        }
      ],
      "source": [
        "X_test_tensor = torch.tensor(np.array(X_test), dtype=torch.float32)\n",
        "test_preds = torch.argmax(model(X_test_tensor), dim=1)\n",
        "authors_names = le.inverse_transform(test_preds)\n",
        "print(authors_names[:10])"
      ]
    },
    {
      "cell_type": "code",
      "execution_count": null,
      "metadata": {},
      "outputs": [],
      "source": [
        "submission = pd.DataFrame(data=np.array(authors_names), columns=[\"author\"])"
      ]
    },
    {
      "cell_type": "code",
      "execution_count": null,
      "metadata": {},
      "outputs": [
        {
          "data": {
            "text/html": [
              "<div>\n",
              "<style scoped>\n",
              "    .dataframe tbody tr th:only-of-type {\n",
              "        vertical-align: middle;\n",
              "    }\n",
              "\n",
              "    .dataframe tbody tr th {\n",
              "        vertical-align: top;\n",
              "    }\n",
              "\n",
              "    .dataframe thead th {\n",
              "        text-align: right;\n",
              "    }\n",
              "</style>\n",
              "<table border=\"1\" class=\"dataframe\">\n",
              "  <thead>\n",
              "    <tr style=\"text-align: right;\">\n",
              "      <th></th>\n",
              "      <th>author</th>\n",
              "    </tr>\n",
              "  </thead>\n",
              "  <tbody>\n",
              "    <tr>\n",
              "      <th>0</th>\n",
              "      <td>Olivia Bennett</td>\n",
              "    </tr>\n",
              "    <tr>\n",
              "      <th>1</th>\n",
              "      <td>Olivia Bennett</td>\n",
              "    </tr>\n",
              "    <tr>\n",
              "      <th>2</th>\n",
              "      <td>Liam Carter</td>\n",
              "    </tr>\n",
              "    <tr>\n",
              "      <th>3</th>\n",
              "      <td>Liam Carter</td>\n",
              "    </tr>\n",
              "    <tr>\n",
              "      <th>4</th>\n",
              "      <td>Olivia Bennett</td>\n",
              "    </tr>\n",
              "    <tr>\n",
              "      <th>...</th>\n",
              "      <td>...</td>\n",
              "    </tr>\n",
              "    <tr>\n",
              "      <th>794</th>\n",
              "      <td>Olivia Bennett</td>\n",
              "    </tr>\n",
              "    <tr>\n",
              "      <th>795</th>\n",
              "      <td>Liam Carter</td>\n",
              "    </tr>\n",
              "    <tr>\n",
              "      <th>796</th>\n",
              "      <td>Olivia Bennett</td>\n",
              "    </tr>\n",
              "    <tr>\n",
              "      <th>797</th>\n",
              "      <td>Ava Thompson</td>\n",
              "    </tr>\n",
              "    <tr>\n",
              "      <th>798</th>\n",
              "      <td>Olivia Bennett</td>\n",
              "    </tr>\n",
              "  </tbody>\n",
              "</table>\n",
              "<p>799 rows × 1 columns</p>\n",
              "</div>"
            ],
            "text/plain": [
              "             author\n",
              "0    Olivia Bennett\n",
              "1    Olivia Bennett\n",
              "2       Liam Carter\n",
              "3       Liam Carter\n",
              "4    Olivia Bennett\n",
              "..              ...\n",
              "794  Olivia Bennett\n",
              "795     Liam Carter\n",
              "796  Olivia Bennett\n",
              "797    Ava Thompson\n",
              "798  Olivia Bennett\n",
              "\n",
              "[799 rows x 1 columns]"
            ]
          },
          "execution_count": 59,
          "metadata": {},
          "output_type": "execute_result"
        }
      ],
      "source": [
        "submission"
      ]
    },
    {
      "cell_type": "code",
      "execution_count": null,
      "metadata": {},
      "outputs": [
        {
          "name": "stdout",
          "output_type": "stream",
          "text": [
            "File Paths:\n",
            "['dardesarSardabir.ipynb', 'submission.csv']\n"
          ]
        }
      ],
      "source": [
        "import zipfile\n",
        "import joblib\n",
        "import os\n",
        "\n",
        "if not os.path.exists(os.path.join(os.getcwd(), 'dardesarSardabir.ipynb')):\n",
        "    %notebook -e dardesarSardabir.ipynb\n",
        "\n",
        "def compress(file_names):\n",
        "    print(\"File Paths:\")\n",
        "    print(file_names)\n",
        "    compression = zipfile.ZIP_DEFLATED\n",
        "    with zipfile.ZipFile(\"result.zip\", mode=\"w\") as zf:\n",
        "        for file_name in file_names:\n",
        "            zf.write('./' + file_name, file_name, compress_type=compression)\n",
        "\n",
        "submission.to_csv('submission.csv', index=False)\n",
        "file_names = ['dardesarSardabir.ipynb', 'submission.csv']\n",
        "compress(file_names)"
      ]
    }
  ],
  "metadata": {
    "colab": {
      "collapsed_sections": [
        "aPjqa0RrqaA2"
      ],
      "provenance": []
    },
    "kernelspec": {
      "display_name": "Python 3",
      "language": "python",
      "name": "python3"
    },
    "language_info": {
      "codemirror_mode": {
        "name": "ipython",
        "version": 3
      },
      "file_extension": ".py",
      "mimetype": "text/x-python",
      "name": "python",
      "nbconvert_exporter": "python",
      "pygments_lexer": "ipython3",
      "version": "3.12.3"
    }
  },
  "nbformat": 4,
  "nbformat_minor": 0
}
